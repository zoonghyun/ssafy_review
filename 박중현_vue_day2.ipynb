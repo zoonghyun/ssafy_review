{
  "nbformat": 4,
  "nbformat_minor": 0,
  "metadata": {
    "colab": {
      "provenance": []
    },
    "kernelspec": {
      "name": "python3",
      "display_name": "Python 3"
    },
    "language_info": {
      "name": "python"
    }
  },
  "cells": [
    {
      "cell_type": "markdown",
      "source": [
        "- Vue Router\n",
        "  > 라우트에 컴포넌트를 매핑 <br>\n",
        "  > 프론트엔드에서의 express 기능\n",
        "\n",
        "  - import를 사용해 /views에서 원하는 컴포넌트 가져옴\n",
        "  - router : route를 관리하는 객체\n",
        "  - route : 각각의 화면\n",
        "  - route component : 각각의 route에 연결 되어있는 특별한 컴포넌트"
      ],
      "metadata": {
        "id": "d9Kd0pE7vOFd"
      }
    },
    {
      "cell_type": "markdown",
      "source": [
        "- App.vue\n",
        "   \n",
        "```\n",
        "    <RouterLink to=\"/경로\">\n",
        "    // 화면에 보이는 모습은 a 태그와 동일, 새로고침 발생 안 함\n",
        "```\n",
        "\n",
        "```\n",
        "  <RouterView />\n",
        "  // route에 해당하는 화면이 실제 렌더링 되는 영역\n",
        "```"
      ],
      "metadata": {
        "id": "7Py6PRaaw4JU"
      }
    },
    {
      "cell_type": "markdown",
      "source": [
        "- props\n",
        "  - 컴포넌트를 분리\n",
        "  - 부모 컴포넌트에서 자식 컴포넌트로 데이터 전달\n",
        "  - v-bind ( : ) 로 구현\n",
        "\n",
        "- emit\n",
        "  - 자식 컴포넌트에서 부모 컴포넌트에 이벤트 전달\n",
        "  - v-on ( @ ) 사용\n",
        "\n",
        "props/emit 은 반드시 부모 자식 관계여야만 가능"
      ],
      "metadata": {
        "id": "tYNpnqW1x25E"
      }
    },
    {
      "cell_type": "markdown",
      "source": [
        "- pinia\n",
        "  - src/stores/ 디렉터리에서 store 정의\n"
      ],
      "metadata": {
        "id": "wphtetpCyiN8"
      }
    },
    {
      "cell_type": "markdown",
      "source": [
        "아 모르겠다"
      ],
      "metadata": {
        "id": "FH2KG3DZy4tT"
      }
    },
    {
      "cell_type": "markdown",
      "source": [],
      "metadata": {
        "id": "UEPH8DbnOhxh"
      }
    }
  ]
}